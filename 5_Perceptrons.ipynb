{
 "cells": [
  {
   "cell_type": "code",
   "execution_count": 1,
   "metadata": {},
   "outputs": [],
   "source": [
    "import torch\n",
    "import numpy as np\n",
    "import matplotlib.pyplot as plt\n",
    "import torch.nn as nn\n",
    "from sklearn import datasets"
   ]
  },
  {
   "cell_type": "code",
   "execution_count": 2,
   "metadata": {},
   "outputs": [],
   "source": [
    "n_pts = 100\n",
    "centers = [[-0.5, 0.5], [0.5, -0.5]]\n",
    "#generate a cluster of random points centered around a chosen central point\n",
    "#https://scikit-learn.org/stable/modules/generated/sklearn.datasets.make_blobs.html\n",
    "X, y = datasets.make_blobs(n_pts, random_state=123, centers=centers, cluster_std=0.4)\n",
    "#print(X)\n",
    "#print(y)\n",
    "x_data = torch.Tensor(X)\n",
    "y_data = torch.Tensor(y.reshape(n_pts, 1))"
   ]
  },
  {
   "cell_type": "code",
   "execution_count": 3,
   "metadata": {},
   "outputs": [],
   "source": [
    "def scartter_plot():\n",
    "    plt.scatter(X[y==0, 0], X[y==0, 1])\n",
    "    plt.scatter(X[y==1, 0], X[y==1, 1])"
   ]
  },
  {
   "cell_type": "code",
   "execution_count": 4,
   "metadata": {},
   "outputs": [
    {
     "data": {
      "image/png": "[encoded data removed]",
      "text/plain": [
       "<Figure size 432x288 with 1 Axes>"
      ]
     },
     "metadata": {
      "needs_background": "light"
     },
     "output_type": "display_data"
    }
   ],
   "source": [
    "scartter_plot()"
   ]
  },
  {
   "cell_type": "code",
   "execution_count": 5,
   "metadata": {},
   "outputs": [],
   "source": [
    "class Model(nn.Module):\n",
    "    def __init__(self, input_size, output_size):\n",
    "        super(Model, self).__init__()\n",
    "        self.linear = nn.Linear(input_size, output_size) \n",
    "        #returns a linear outcome, in this case: return [x1, x2] x [w1, w2]^T + [b1]\n",
    "    def forward(self, x):\n",
    "        pred = torch.sigmoid(self.linear(x)) #transformed to probability 1/(1+e^x)\n",
    "        return pred\n",
    "    def predict(self, x):\n",
    "        pred = self.forward(x)\n",
    "        if pred >= 0.5:\n",
    "            return 1\n",
    "        else: return 0"
   ]
  },
  {
   "cell_type": "code",
   "execution_count": 6,
   "metadata": {},
   "outputs": [
    {
     "name": "stdout",
     "output_type": "stream",
     "text": [
      "[Parameter containing:\n",
      "tensor([[ 0.1622, -0.1683]], requires_grad=True), Parameter containing:\n",
      "tensor([0.1939], requires_grad=True)]\n"
     ]
    }
   ],
   "source": [
    "torch.manual_seed(2)\n",
    "model = Model(2, 1) # two weights, one outcome => y = w1*x1 + w2*x2 + b => 0 = w1x1 + w2x2 + b1\n",
    "print(list(model.parameters()))"
   ]
  },
  {
   "cell_type": "code",
   "execution_count": 7,
   "metadata": {
    "scrolled": true
   },
   "outputs": [
    {
     "name": "stdout",
     "output_type": "stream",
     "text": [
      "Parameter containing:\n",
      "tensor([[ 0.1622, -0.1683]], requires_grad=True) Parameter containing:\n",
      "tensor([0.1939], requires_grad=True)\n",
      "tensor(0.1622, grad_fn=<SelectBackward>) tensor(-0.1683, grad_fn=<SelectBackward>) tensor(0.1939, grad_fn=<SelectBackward>)\n"
     ]
    }
   ],
   "source": [
    "[w, b] = model.parameters()\n",
    "print(w, b)\n",
    "w1, w2 = w.view(2)\n",
    "b1 = b[0]\n",
    "print(w1, w2, b1)\n",
    "def get_params():\n",
    "    return (w1.item(), w2.item(), b[0].item())"
   ]
  },
  {
   "cell_type": "code",
   "execution_count": 8,
   "metadata": {},
   "outputs": [],
   "source": [
    "def plot_fit(title):\n",
    "    plt.title = title\n",
    "    w1, w2, b1 = get_params()\n",
    "    #0 = w1x1 + w2x2 + b1, linear equation\n",
    "    #theoretically, prediction for all points above the line is 1 \n",
    "    #and 0 for all points below this line in a perfet model\n",
    "    x1 = np.array([-2.0, 2.0]) # interval for the line x coordinates\n",
    "    x2 = (-w1*x1-b1)/w2 # corresponding value for point on the line\n",
    "    plt.plot(x1, x2, 'r')\n",
    "    scartter_plot()"
   ]
  },
  {
   "cell_type": "code",
   "execution_count": 9,
   "metadata": {},
   "outputs": [
    {
     "data": {
      "image/png": "[encoded data removed]",
      "text/plain": [
       "<Figure size 432x288 with 1 Axes>"
      ]
     },
     "metadata": {
      "needs_background": "light"
     },
     "output_type": "display_data"
    }
   ],
   "source": [
    "plot_fit('Initial Model')"
   ]
  },
  {
   "cell_type": "code",
   "execution_count": 10,
   "metadata": {},
   "outputs": [],
   "source": [
    "criterion = nn.BCELoss() #Binary Cross-Entropy Loss, aka Sigmoid Cross-Entropy loss\n",
    "optimizer = torch.optim.SGD(model.parameters() ,lr=0.01)"
   ]
  },
  {
   "cell_type": "code",
   "execution_count": 11,
   "metadata": {},
   "outputs": [
    {
     "name": "stdout",
     "output_type": "stream",
     "text": [
      "1 % Loss = 0.2562711238861084\n",
      "2 % Loss = 0.18405593931674957\n",
      "3 % Loss = 0.15133805572986603\n",
      "4 % Loss = 0.1318747103214264\n",
      "5 % Loss = 0.11863123625516891\n",
      "6 % Loss = 0.10887020081281662\n",
      "7 % Loss = 0.10128509253263474\n",
      "8 % Loss = 0.09516576677560806\n",
      "9 % Loss = 0.09008923172950745\n",
      "10 % Loss = 0.0857861340045929\n",
      "11 % Loss = 0.08207566291093826\n",
      "12 % Loss = 0.0788315162062645\n",
      "13 % Loss = 0.07596219331026077\n",
      "14 % Loss = 0.07339975237846375\n",
      "15 % Loss = 0.07109243422746658\n",
      "16 % Loss = 0.0689999982714653\n",
      "17 % Loss = 0.06709065288305283\n",
      "18 % Loss = 0.0653388723731041\n",
      "19 % Loss = 0.06372395157814026\n",
      "20 % Loss = 0.062228746712207794\n",
      "21 % Loss = 0.06083909049630165\n",
      "22 % Loss = 0.05954299122095108\n",
      "23 % Loss = 0.058330461382865906\n",
      "24 % Loss = 0.05719263479113579\n",
      "25 % Loss = 0.0561223179101944\n",
      "26 % Loss = 0.055112987756729126\n",
      "27 % Loss = 0.05415908992290497\n",
      "28 % Loss = 0.053255610167980194\n",
      "28 % Loss = 0.052398499101400375\n",
      "30 % Loss = 0.05158373713493347\n",
      "31 % Loss = 0.050808053463697433\n",
      "32 % Loss = 0.05006827041506767\n",
      "33 % Loss = 0.049362052232027054\n",
      "34 % Loss = 0.04868664592504501\n",
      "35 % Loss = 0.04803995043039322\n",
      "36 % Loss = 0.04742000252008438\n",
      "37 % Loss = 0.04682503640651703\n",
      "38 % Loss = 0.046253472566604614\n",
      "39 % Loss = 0.04570385441184044\n",
      "40 % Loss = 0.04517480731010437\n",
      "41 % Loss = 0.04466506838798523\n",
      "42 % Loss = 0.04417341575026512\n",
      "43 % Loss = 0.0436989963054657\n",
      "44 % Loss = 0.043240614235401154\n",
      "45 % Loss = 0.04279771447181702\n",
      "46 % Loss = 0.042369294911623\n",
      "47 % Loss = 0.04195450618863106\n",
      "48 % Loss = 0.04155261069536209\n",
      "49 % Loss = 0.04116319492459297\n",
      "50 % Loss = 0.0407855324447155\n",
      "51 % Loss = 0.040418874472379684\n",
      "52 % Loss = 0.040063194930553436\n",
      "53 % Loss = 0.03971738740801811\n",
      "54 % Loss = 0.03938153758645058\n",
      "55 % Loss = 0.039054833352565765\n",
      "56 % Loss = 0.03873681649565697\n",
      "56 % Loss = 0.03842754662036896\n",
      "57 % Loss = 0.03812619298696518\n",
      "59 % Loss = 0.03783244267106056\n",
      "60 % Loss = 0.03754618763923645\n",
      "61 % Loss = 0.03726736456155777\n",
      "62 % Loss = 0.03699527680873871\n",
      "63 % Loss = 0.0367295928299427\n",
      "64 % Loss = 0.03647138923406601\n",
      "65 % Loss = 0.03621756657958031\n",
      "66 % Loss = 0.03597091883420944\n",
      "67 % Loss = 0.0357285812497139\n",
      "68 % Loss = 0.035493165254592896\n",
      "69 % Loss = 0.03526138886809349\n",
      "70 % Loss = 0.03503618389368057\n",
      "71 % Loss = 0.03481487184762955\n",
      "72 % Loss = 0.03459850698709488\n",
      "73 % Loss = 0.03438706696033478\n",
      "74 % Loss = 0.0341787189245224\n",
      "75 % Loss = 0.033976614475250244\n",
      "76 % Loss = 0.03377697989344597\n",
      "77 % Loss = 0.033582184463739395\n",
      "78 % Loss = 0.033391162753105164\n",
      "79 % Loss = 0.03320293128490448\n",
      "80 % Loss = 0.03301975876092911\n",
      "81 % Loss = 0.03283955901861191\n",
      "82 % Loss = 0.03266150504350662\n",
      "83 % Loss = 0.03248889371752739\n",
      "84 % Loss = 0.03231845796108246\n",
      "85 % Loss = 0.0321497768163681\n",
      "86 % Loss = 0.03198670968413353\n",
      "87 % Loss = 0.03182512894272804\n",
      "88 % Loss = 0.0316658541560173\n",
      "89 % Loss = 0.03151058405637741\n",
      "90 % Loss = 0.03135769069194794\n",
      "91 % Loss = 0.031206848099827766\n",
      "92 % Loss = 0.03105826862156391\n",
      "93 % Loss = 0.030913641676306725\n",
      "94 % Loss = 0.030770592391490936\n",
      "95 % Loss = 0.03062872216105461\n",
      "96 % Loss = 0.030490687116980553\n",
      "97 % Loss = 0.030355043709278107\n",
      "98 % Loss = 0.03022049367427826\n",
      "99 % Loss = 0.030087893828749657\n",
      "100 % Loss = 0.02995835244655609\n"
     ]
    }
   ],
   "source": [
    "epochs = 100000\n",
    "losses = []\n",
    "for i in range(epochs):\n",
    "    if ((i+1) % (epochs/100) == 0):\n",
    "        print (int(((i+1) / epochs) * 100), '%', \"Loss =\", loss.item())\n",
    "    y_pred = model.forward(x_data)\n",
    "    loss = criterion(y_pred, y_data)\n",
    "    #print(\"epoch\", i, \"loss\", loss.item())\n",
    "    losses.append(loss.item())\n",
    "    optimizer.zero_grad()\n",
    "    loss.backward()\n",
    "    optimizer.step()"
   ]
  },
  {
   "cell_type": "code",
   "execution_count": 12,
   "metadata": {},
   "outputs": [
    {
     "data": {
      "text/plain": [
       "Text(0.5, 0, 'Epoch')"
      ]
     },
     "execution_count": 12,
     "metadata": {},
     "output_type": "execute_result"
    },
    {
     "data": {
      "image/png": "[encoded data removed]",
      "text/plain": [
       "<Figure size 432x288 with 1 Axes>"
      ]
     },
     "metadata": {
      "needs_background": "light"
     },
     "output_type": "display_data"
    }
   ],
   "source": [
    "plt.plot(range(epochs), losses)\n",
    "plt.ylabel(\"Loss\")\n",
    "plt.xlabel(\"Epoch\")"
   ]
  },
  {
   "cell_type": "code",
   "execution_count": 13,
   "metadata": {},
   "outputs": [
    {
     "data": {
      "image/png": "[encoded data removed]",
      "text/plain": [
       "<Figure size 432x288 with 1 Axes>"
      ]
     },
     "metadata": {
      "needs_background": "light"
     },
     "output_type": "display_data"
    }
   ],
   "source": [
    "plot_fit(\"Trained Model\")"
   ]
  },
  {
   "cell_type": "code",
   "execution_count": 14,
   "metadata": {},
   "outputs": [
    {
     "name": "stdout",
     "output_type": "stream",
     "text": [
      "Red point positive probability = 0.9999997615814209\n",
      "Black point positive probability = 2.0298303482491065e-08\n",
      "Red point in class 1\n",
      "Black point in class 0\n"
     ]
    },
    {
     "data": {
      "image/png": "[encoded data removed]",
      "text/plain": [
       "<Figure size 432x288 with 1 Axes>"
      ]
     },
     "metadata": {
      "needs_background": "light"
     },
     "output_type": "display_data"
    }
   ],
   "source": [
    "point1 = torch.Tensor([-0.5.0, -1.0])\n",
    "point2 = torch.Tensor([-1.0, 1.0])\n",
    "plt.plot(point1.numpy()[0], point1.numpy()[1], 'ro')\n",
    "plt.plot(point2.numpy()[0], point2.numpy()[1], 'ko')\n",
    "print(\"Red point positive probability = {}\".format(model.forward(point1).item()))\n",
    "print(\"Black point positive probability = {}\".format(model.forward(point2).item()))\n",
    "\n",
    "print(\"Red point in class {}\".format(model.predict(point1)))\n",
    "print(\"Black point in class {}\".format(model.predict(point2)))\n",
    "plot_fit('Trained Model')"
   ]
  },
  {
   "cell_type": "code",
   "execution_count": null,
   "metadata": {},
   "outputs": [],
   "source": []
  }
 ],
 "metadata": {
  "kernelspec": {
   "display_name": "Python 3",
   "language": "python",
   "name": "python3"
  },
  "language_info": {
   "codemirror_mode": {
    "name": "ipython",
    "version": 3
   },
   "file_extension": ".py",
   "mimetype": "text/x-python",
   "name": "python",
   "nbconvert_exporter": "python",
   "pygments_lexer": "ipython3",
   "version": "3.7.9"
  }
 },
 "nbformat": 4,
 "nbformat_minor": 4
}
